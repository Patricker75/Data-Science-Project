{
 "cells": [
  {
   "cell_type": "markdown",
   "metadata": {},
   "source": [
    "# Data Exploration"
   ]
  },
  {
   "cell_type": "markdown",
   "metadata": {},
   "source": [
    "Chosen Dataset: tic-tac-toe"
   ]
  },
  {
   "cell_type": "code",
   "execution_count": 119,
   "metadata": {},
   "outputs": [],
   "source": [
    "import numpy as np\n",
    "import pandas as pd\n",
    "import matplotlib.pyplot as plt\n",
    "import seaborn as sns"
   ]
  },
  {
   "cell_type": "code",
   "execution_count": 120,
   "metadata": {},
   "outputs": [
    {
     "data": {
      "text/html": [
       "<div>\n",
       "<style scoped>\n",
       "    .dataframe tbody tr th:only-of-type {\n",
       "        vertical-align: middle;\n",
       "    }\n",
       "\n",
       "    .dataframe tbody tr th {\n",
       "        vertical-align: top;\n",
       "    }\n",
       "\n",
       "    .dataframe thead th {\n",
       "        text-align: right;\n",
       "    }\n",
       "</style>\n",
       "<table border=\"1\" class=\"dataframe\">\n",
       "  <thead>\n",
       "    <tr style=\"text-align: right;\">\n",
       "      <th></th>\n",
       "      <th>one</th>\n",
       "      <th>two</th>\n",
       "      <th>three</th>\n",
       "      <th>four</th>\n",
       "      <th>five</th>\n",
       "      <th>six</th>\n",
       "      <th>seven</th>\n",
       "      <th>eight</th>\n",
       "      <th>nine</th>\n",
       "      <th>outcome</th>\n",
       "    </tr>\n",
       "  </thead>\n",
       "  <tbody>\n",
       "    <tr>\n",
       "      <th>0</th>\n",
       "      <td>x</td>\n",
       "      <td>x</td>\n",
       "      <td>x</td>\n",
       "      <td>x</td>\n",
       "      <td>o</td>\n",
       "      <td>o</td>\n",
       "      <td>x</td>\n",
       "      <td>o</td>\n",
       "      <td>o</td>\n",
       "      <td>positive</td>\n",
       "    </tr>\n",
       "    <tr>\n",
       "      <th>1</th>\n",
       "      <td>x</td>\n",
       "      <td>x</td>\n",
       "      <td>x</td>\n",
       "      <td>x</td>\n",
       "      <td>o</td>\n",
       "      <td>o</td>\n",
       "      <td>o</td>\n",
       "      <td>x</td>\n",
       "      <td>o</td>\n",
       "      <td>positive</td>\n",
       "    </tr>\n",
       "    <tr>\n",
       "      <th>2</th>\n",
       "      <td>x</td>\n",
       "      <td>x</td>\n",
       "      <td>x</td>\n",
       "      <td>x</td>\n",
       "      <td>o</td>\n",
       "      <td>o</td>\n",
       "      <td>o</td>\n",
       "      <td>o</td>\n",
       "      <td>x</td>\n",
       "      <td>positive</td>\n",
       "    </tr>\n",
       "    <tr>\n",
       "      <th>3</th>\n",
       "      <td>x</td>\n",
       "      <td>x</td>\n",
       "      <td>x</td>\n",
       "      <td>x</td>\n",
       "      <td>o</td>\n",
       "      <td>o</td>\n",
       "      <td>o</td>\n",
       "      <td>b</td>\n",
       "      <td>b</td>\n",
       "      <td>positive</td>\n",
       "    </tr>\n",
       "    <tr>\n",
       "      <th>4</th>\n",
       "      <td>x</td>\n",
       "      <td>x</td>\n",
       "      <td>x</td>\n",
       "      <td>x</td>\n",
       "      <td>o</td>\n",
       "      <td>o</td>\n",
       "      <td>b</td>\n",
       "      <td>o</td>\n",
       "      <td>b</td>\n",
       "      <td>positive</td>\n",
       "    </tr>\n",
       "  </tbody>\n",
       "</table>\n",
       "</div>"
      ],
      "text/plain": [
       "  one two three four five six seven eight nine   outcome\n",
       "0   x   x     x    x    o   o     x     o    o  positive\n",
       "1   x   x     x    x    o   o     o     x    o  positive\n",
       "2   x   x     x    x    o   o     o     o    x  positive\n",
       "3   x   x     x    x    o   o     o     b    b  positive\n",
       "4   x   x     x    x    o   o     b     o    b  positive"
      ]
     },
     "execution_count": 120,
     "metadata": {},
     "output_type": "execute_result"
    }
   ],
   "source": [
    "df = pd.read_csv(filepath_or_buffer='Desktop\\\\hw 5\\\\Data-Science-Project\\\\tic-tac-toe.data', header = None)\n",
    "df.columns = ['one', 'two', 'three', 'four', 'five', 'six', 'seven', 'eight', 'nine', 'outcome']\n",
    "df.head()"
   ]
  },
  {
   "cell_type": "code",
   "execution_count": null,
   "metadata": {},
   "outputs": [],
   "source": [
    "#The columns relate to the position on the board. One two and three are the top three squares and the next numbers follow the\n",
    "#the same pattern. The outcome relates to whether x wins or not. Postive means that x has won, negative means that o has won."
   ]
  },
  {
   "cell_type": "code",
   "execution_count": 121,
   "metadata": {},
   "outputs": [
    {
     "name": "stdout",
     "output_type": "stream",
     "text": [
      "<class 'pandas.core.frame.DataFrame'>\n",
      "RangeIndex: 958 entries, 0 to 957\n",
      "Data columns (total 10 columns):\n",
      " #   Column   Non-Null Count  Dtype \n",
      "---  ------   --------------  ----- \n",
      " 0   one      958 non-null    object\n",
      " 1   two      958 non-null    object\n",
      " 2   three    958 non-null    object\n",
      " 3   four     958 non-null    object\n",
      " 4   five     958 non-null    object\n",
      " 5   six      958 non-null    object\n",
      " 6   seven    958 non-null    object\n",
      " 7   eight    958 non-null    object\n",
      " 8   nine     958 non-null    object\n",
      " 9   outcome  958 non-null    object\n",
      "dtypes: object(10)\n",
      "memory usage: 75.0+ KB\n"
     ]
    }
   ],
   "source": [
    "df.info()"
   ]
  },
  {
   "cell_type": "code",
   "execution_count": 122,
   "metadata": {},
   "outputs": [],
   "source": [
    "#This data set does not have any null values. However as seen, the attributes are all objects and thus need to be accomodated\n",
    "#for classification. To do this, we will use one hot encoding."
   ]
  },
  {
   "cell_type": "code",
   "execution_count": 145,
   "metadata": {},
   "outputs": [
    {
     "data": {
      "text/html": [
       "<div>\n",
       "<style scoped>\n",
       "    .dataframe tbody tr th:only-of-type {\n",
       "        vertical-align: middle;\n",
       "    }\n",
       "\n",
       "    .dataframe tbody tr th {\n",
       "        vertical-align: top;\n",
       "    }\n",
       "\n",
       "    .dataframe thead th {\n",
       "        text-align: right;\n",
       "    }\n",
       "</style>\n",
       "<table border=\"1\" class=\"dataframe\">\n",
       "  <thead>\n",
       "    <tr style=\"text-align: right;\">\n",
       "      <th></th>\n",
       "      <th>one_o</th>\n",
       "      <th>one_x</th>\n",
       "      <th>two_o</th>\n",
       "      <th>two_x</th>\n",
       "      <th>three_o</th>\n",
       "      <th>three_x</th>\n",
       "      <th>four_o</th>\n",
       "      <th>four_x</th>\n",
       "      <th>five_o</th>\n",
       "      <th>five_x</th>\n",
       "      <th>six_o</th>\n",
       "      <th>six_x</th>\n",
       "      <th>seven_o</th>\n",
       "      <th>seven_x</th>\n",
       "      <th>eight_o</th>\n",
       "      <th>eight_x</th>\n",
       "      <th>nine_o</th>\n",
       "      <th>nine_x</th>\n",
       "      <th>outcome_positive</th>\n",
       "    </tr>\n",
       "  </thead>\n",
       "  <tbody>\n",
       "    <tr>\n",
       "      <th>0</th>\n",
       "      <td>0</td>\n",
       "      <td>1</td>\n",
       "      <td>0</td>\n",
       "      <td>1</td>\n",
       "      <td>0</td>\n",
       "      <td>1</td>\n",
       "      <td>0</td>\n",
       "      <td>1</td>\n",
       "      <td>1</td>\n",
       "      <td>0</td>\n",
       "      <td>1</td>\n",
       "      <td>0</td>\n",
       "      <td>0</td>\n",
       "      <td>1</td>\n",
       "      <td>1</td>\n",
       "      <td>0</td>\n",
       "      <td>1</td>\n",
       "      <td>0</td>\n",
       "      <td>1</td>\n",
       "    </tr>\n",
       "    <tr>\n",
       "      <th>1</th>\n",
       "      <td>0</td>\n",
       "      <td>1</td>\n",
       "      <td>0</td>\n",
       "      <td>1</td>\n",
       "      <td>0</td>\n",
       "      <td>1</td>\n",
       "      <td>0</td>\n",
       "      <td>1</td>\n",
       "      <td>1</td>\n",
       "      <td>0</td>\n",
       "      <td>1</td>\n",
       "      <td>0</td>\n",
       "      <td>1</td>\n",
       "      <td>0</td>\n",
       "      <td>0</td>\n",
       "      <td>1</td>\n",
       "      <td>1</td>\n",
       "      <td>0</td>\n",
       "      <td>1</td>\n",
       "    </tr>\n",
       "    <tr>\n",
       "      <th>2</th>\n",
       "      <td>0</td>\n",
       "      <td>1</td>\n",
       "      <td>0</td>\n",
       "      <td>1</td>\n",
       "      <td>0</td>\n",
       "      <td>1</td>\n",
       "      <td>0</td>\n",
       "      <td>1</td>\n",
       "      <td>1</td>\n",
       "      <td>0</td>\n",
       "      <td>1</td>\n",
       "      <td>0</td>\n",
       "      <td>1</td>\n",
       "      <td>0</td>\n",
       "      <td>1</td>\n",
       "      <td>0</td>\n",
       "      <td>0</td>\n",
       "      <td>1</td>\n",
       "      <td>1</td>\n",
       "    </tr>\n",
       "    <tr>\n",
       "      <th>3</th>\n",
       "      <td>0</td>\n",
       "      <td>1</td>\n",
       "      <td>0</td>\n",
       "      <td>1</td>\n",
       "      <td>0</td>\n",
       "      <td>1</td>\n",
       "      <td>0</td>\n",
       "      <td>1</td>\n",
       "      <td>1</td>\n",
       "      <td>0</td>\n",
       "      <td>1</td>\n",
       "      <td>0</td>\n",
       "      <td>1</td>\n",
       "      <td>0</td>\n",
       "      <td>0</td>\n",
       "      <td>0</td>\n",
       "      <td>0</td>\n",
       "      <td>0</td>\n",
       "      <td>1</td>\n",
       "    </tr>\n",
       "    <tr>\n",
       "      <th>4</th>\n",
       "      <td>0</td>\n",
       "      <td>1</td>\n",
       "      <td>0</td>\n",
       "      <td>1</td>\n",
       "      <td>0</td>\n",
       "      <td>1</td>\n",
       "      <td>0</td>\n",
       "      <td>1</td>\n",
       "      <td>1</td>\n",
       "      <td>0</td>\n",
       "      <td>1</td>\n",
       "      <td>0</td>\n",
       "      <td>0</td>\n",
       "      <td>0</td>\n",
       "      <td>1</td>\n",
       "      <td>0</td>\n",
       "      <td>0</td>\n",
       "      <td>0</td>\n",
       "      <td>1</td>\n",
       "    </tr>\n",
       "  </tbody>\n",
       "</table>\n",
       "</div>"
      ],
      "text/plain": [
       "   one_o  one_x  two_o  two_x  three_o  three_x  four_o  four_x  five_o  \\\n",
       "0      0      1      0      1        0        1       0       1       1   \n",
       "1      0      1      0      1        0        1       0       1       1   \n",
       "2      0      1      0      1        0        1       0       1       1   \n",
       "3      0      1      0      1        0        1       0       1       1   \n",
       "4      0      1      0      1        0        1       0       1       1   \n",
       "\n",
       "   five_x  six_o  six_x  seven_o  seven_x  eight_o  eight_x  nine_o  nine_x  \\\n",
       "0       0      1      0        0        1        1        0       1       0   \n",
       "1       0      1      0        1        0        0        1       1       0   \n",
       "2       0      1      0        1        0        1        0       0       1   \n",
       "3       0      1      0        1        0        0        0       0       0   \n",
       "4       0      1      0        0        0        1        0       0       0   \n",
       "\n",
       "   outcome_positive  \n",
       "0                 1  \n",
       "1                 1  \n",
       "2                 1  \n",
       "3                 1  \n",
       "4                 1  "
      ]
     },
     "execution_count": 145,
     "metadata": {},
     "output_type": "execute_result"
    }
   ],
   "source": [
    "X = df\n",
    "\n",
    "encoded = pd.get_dummies(df.one, prefix = 'one').iloc[:, 1:]\n",
    "X = pd.concat([X,encoded], axis = 1)\n",
    "X.drop('one', axis = 1, inplace=True)\n",
    "\n",
    "encoded = pd.get_dummies(df['two'], prefix = 'two').iloc[:, 1:]\n",
    "X = pd.concat([X,encoded], axis = 1)\n",
    "X.drop('two', axis = 1, inplace=True)\n",
    "\n",
    "encoded = pd.get_dummies(df['three'], prefix = 'three').iloc[:, 1:]\n",
    "X = pd.concat([X,encoded], axis = 1)\n",
    "X.drop('three', axis = 1, inplace=True)\n",
    "\n",
    "encoded = pd.get_dummies(df['four'], prefix = 'four').iloc[:, 1:]\n",
    "X = pd.concat([X,encoded], axis = 1)\n",
    "X.drop('four', axis = 1, inplace=True)\n",
    "\n",
    "encoded = pd.get_dummies(df['five'], prefix = 'five').iloc[:, 1:]\n",
    "X = pd.concat([X,encoded], axis = 1)\n",
    "X.drop('five', axis = 1, inplace=True)\n",
    "\n",
    "encoded = pd.get_dummies(df['six'], prefix = 'six').iloc[:, 1:]\n",
    "X = pd.concat([X,encoded], axis = 1)\n",
    "X.drop('six', axis = 1, inplace=True)\n",
    "\n",
    "encoded = pd.get_dummies(df['seven'], prefix = 'seven').iloc[:, 1:]\n",
    "X = pd.concat([X,encoded], axis = 1)\n",
    "X.drop('seven', axis = 1, inplace=True)\n",
    "\n",
    "encoded = pd.get_dummies(df['eight'], prefix = 'eight').iloc[:, 1:]\n",
    "X = pd.concat([X,encoded], axis = 1)\n",
    "X.drop('eight', axis = 1, inplace=True)\n",
    "\n",
    "encoded = pd.get_dummies(df['nine'], prefix = 'nine').iloc[:, 1:]\n",
    "X = pd.concat([X,encoded], axis = 1)\n",
    "X.drop('nine', axis = 1, inplace=True)\n",
    "\n",
    "encoded = pd.get_dummies(df['outcome'], prefix = 'outcome').iloc[:, 1:]\n",
    "X = pd.concat([X,encoded], axis = 1)\n",
    "X.drop('outcome', axis = 1, inplace=True)\n",
    "X.head()"
   ]
  },
  {
   "cell_type": "code",
   "execution_count": 146,
   "metadata": {},
   "outputs": [],
   "source": [
    "from sklearn.model_selection import train_test_split\n",
    "\n",
    "y = X[['outcome_positive']]\n",
    "X = X[['one_o', 'one_x', 'two_o', 'two_x', 'three_o', 'three_x', 'four_o','four_x', 'five_o','five_x', 'six_o','six_x','seven_o','seven_x', 'eight_o','eight_x', 'nine_o','nine_x']]\n",
    "\n",
    "X_train, X_test, y_train, y_test = train_test_split(X, y, test_size=0.3)"
   ]
  },
  {
   "cell_type": "code",
   "execution_count": 147,
   "metadata": {},
   "outputs": [
    {
     "name": "stderr",
     "output_type": "stream",
     "text": [
      "C:\\Users\\light\\anaconda3\\lib\\site-packages\\sklearn\\utils\\validation.py:993: DataConversionWarning: A column-vector y was passed when a 1d array was expected. Please change the shape of y to (n_samples, ), for example using ravel().\n",
      "  y = column_or_1d(y, warn=True)\n"
     ]
    },
    {
     "data": {
      "text/plain": [
       "LogisticRegression(max_iter=1000)"
      ]
     },
     "execution_count": 147,
     "metadata": {},
     "output_type": "execute_result"
    }
   ],
   "source": [
    "from sklearn.linear_model import LogisticRegression\n",
    "\n",
    "logmodel = LogisticRegression(max_iter=1000)\n",
    "logmodel.fit(X_train,y_train)"
   ]
  },
  {
   "cell_type": "code",
   "execution_count": 148,
   "metadata": {},
   "outputs": [],
   "source": [
    "predictions = logmodel.predict(X_test)"
   ]
  },
  {
   "cell_type": "code",
   "execution_count": 149,
   "metadata": {},
   "outputs": [
    {
     "name": "stdout",
     "output_type": "stream",
     "text": [
      "              precision    recall  f1-score   support\n",
      "\n",
      "           0       1.00      0.97      0.98        93\n",
      "           1       0.98      1.00      0.99       195\n",
      "\n",
      "    accuracy                           0.99       288\n",
      "   macro avg       0.99      0.98      0.99       288\n",
      "weighted avg       0.99      0.99      0.99       288\n",
      "\n",
      "[[ 90   3]\n",
      " [  0 195]]\n"
     ]
    }
   ],
   "source": [
    "from sklearn.metrics import classification_report\n",
    "from sklearn.metrics import confusion_matrix\n",
    "\n",
    "print(classification_report(y_test,predictions))\n",
    "print(confusion_matrix(y_test,predictions))"
   ]
  },
  {
   "cell_type": "code",
   "execution_count": 159,
   "metadata": {},
   "outputs": [
    {
     "data": {
      "image/png": "[encoded data removed]",
      "text/plain": [
       "<Figure size 640x480 with 2 Axes>"
      ]
     },
     "metadata": {},
     "output_type": "display_data"
    }
   ],
   "source": [
    "from sklearn.metrics import ConfusionMatrixDisplay\n",
    "\n",
    "matrix = confusion_matrix(y_test, predictions)\n",
    "\n",
    "cm_display = ConfusionMatrixDisplay(confusion_matrix = matrix, display_labels = [False, True])\n",
    "\n",
    "cm_display.plot()\n",
    "\n",
    "cm_display.ax_.grid(False)\n",
    "plt.show()"
   ]
  },
  {
   "cell_type": "code",
   "execution_count": 160,
   "metadata": {},
   "outputs": [
    {
     "data": {
      "image/png": "[encoded data removed]",
      "text/plain": [
       "<Figure size 640x480 with 1 Axes>"
      ]
     },
     "metadata": {},
     "output_type": "display_data"
    }
   ],
   "source": [
    "yvalues = logmodel.predict_proba(X_test)[:,1]\n",
    "\n",
    "colors = ['b' if label == 0 else 'r' for label in y_test[\"outcome_positive\"]]\n",
    "\n",
    "colors = [x for _,x in sorted(zip(yvalues,colors))]\n",
    "\n",
    "yvalues.sort()\n",
    "\n",
    "x = np.linspace(1,len(yvalues),len(yvalues))\n",
    "\n",
    "plt.axhline(y = 0.5, color = 'black', linestyle = '-', label='Decision Boundary')\n",
    "plt.scatter(x, yvalues, c = colors, label='Loss')\n",
    "plt.xlabel(\"Combination #\")\n",
    "plt.ylabel(\"Predicted Probability of winning for x\")\n",
    "plt.title(\"Logistic Accuracy Probability Predictions for combination, sorted by probability of winning for x\")\n",
    "plt.legend()\n",
    "plt.show()"
   ]
  },
  {
   "cell_type": "code",
   "execution_count": null,
   "metadata": {},
   "outputs": [],
   "source": [
    "#As we can see with the confusion matrix and visual representation of the logistic model, the model works quite well at\n",
    "#classifying whether x wins or not. The model only gave 3 false postivies and 0 false negatives."
   ]
  }
 ],
 "metadata": {
  "kernelspec": {
   "display_name": "Python 3 (ipykernel)",
   "language": "python",
   "name": "python3"
  },
  "language_info": {
   "codemirror_mode": {
    "name": "ipython",
    "version": 3
   },
   "file_extension": ".py",
   "mimetype": "text/x-python",
   "name": "python",
   "nbconvert_exporter": "python",
   "pygments_lexer": "ipython3",
   "version": "3.9.13"
  }
 },
 "nbformat": 4,
 "nbformat_minor": 2
}
